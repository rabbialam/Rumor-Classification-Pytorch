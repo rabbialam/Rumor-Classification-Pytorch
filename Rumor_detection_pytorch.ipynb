{
 "cells": [
  {
   "cell_type": "code",
   "execution_count": 25,
   "metadata": {},
   "outputs": [],
   "source": [
    "#-*- coding: utf-8 -*-\n",
    "# This is a version implement a paper:\"Detecting Rumors from Microblogs with Recurrent Neural Networks\"(https://ijcai.org/Proceedings/16/Papers/537.pdf)\n",
    "# I change the parameter for my best prediction.\n",
    "import json,os\n",
    "from os import listdir\n",
    "import time\n",
    "import datetime\n",
    "import glob\n",
    "\n",
    "from sklearn.feature_extraction.text import TfidfVectorizer\n",
    "from sklearn.feature_extraction.text import TfidfTransformer\n",
    "# Neural Network\n",
    "import numpy as np\n",
    "np.random.seed(3)\n",
    "# For add layer sequentally\n",
    "import torch\n",
    "import torch.nn as nn\n",
    "import torch.optim as optim\n",
    "import torch.nn.functional as F\n",
    "\n",
    "import torchvision\n",
    "import torchvision.transforms as transforms"
   ]
  },
  {
   "cell_type": "code",
   "execution_count": 32,
   "metadata": {},
   "outputs": [],
   "source": [
    "mypath = \"{Path}\"\n",
    "\n",
    "totalData = []\n",
    "totalDataLabel = []\n"
   ]
  },
  {
   "cell_type": "code",
   "execution_count": 33,
   "metadata": {},
   "outputs": [
    {
     "data": {
      "text/plain": [
       "192350"
      ]
     },
     "execution_count": 33,
     "metadata": {},
     "output_type": "execute_result"
    }
   ],
   "source": [
    "for filename in glob.glob(mypath):\n",
    "    name = os.path.splitext(os.path.basename(filename))[0]\n",
    "    lable = name.split('_')[0]\n",
    "    totalDoc += 1\n",
    "    if lable=='N':\n",
    "        lable=1\n",
    "    else:\n",
    "        lable=0\n",
    "    file = open(os.path.join(mypath,name+'.txt'),\"r\")\n",
    "    lines= file.readlines()\n",
    "    for line in lines:\n",
    "        row = line.split('\\t')\n",
    "        if len(row)>2:\n",
    "            totalData.append(row[2])\n",
    "            totalDataLabel.append(lable)\n",
    "        \n",
    "        \n",
    "len(totalData)"
   ]
  },
  {
   "cell_type": "code",
   "execution_count": 34,
   "metadata": {},
   "outputs": [
    {
     "name": "stdout",
     "output_type": "stream",
     "text": [
      "61273\n",
      "131077\n"
     ]
    }
   ],
   "source": [
    "print(totalDataLabel.count(0))\n",
    "print(totalDataLabel.count(1))\n"
   ]
  },
  {
   "cell_type": "code",
   "execution_count": 35,
   "metadata": {},
   "outputs": [
    {
     "data": {
      "text/plain": [
       "scipy.sparse.csr.csr_matrix"
      ]
     },
     "execution_count": 35,
     "metadata": {},
     "output_type": "execute_result"
    }
   ],
   "source": [
    "vectorizer = TfidfVectorizer(max_df=0.5, min_df=2, stop_words='english', use_idf=True)\n",
    "\n",
    "X = vectorizer.fit_transform(totalData)\n",
    "type(X)"
   ]
  },
  {
   "cell_type": "code",
   "execution_count": 40,
   "metadata": {},
   "outputs": [
    {
     "data": {
      "text/plain": [
       "41070"
      ]
     },
     "execution_count": 40,
     "metadata": {},
     "output_type": "execute_result"
    }
   ],
   "source": [
    "len(vectorizer.get_feature_names())"
   ]
  },
  {
   "cell_type": "code",
   "execution_count": 6,
   "metadata": {},
   "outputs": [],
   "source": [
    "#X in the previuos step is hidimentional data, we need to use some dimentionality reduction technique. In this case, we will use SVD (Singular Value Decomposition), which is a common matrix decomposition technique.\n",
    "#We want to reduce the dimentionality to 5000.\n",
    "#We have to re-normalize after we run our SVD on the dataset.\n",
    "from sklearn.pipeline import make_pipeline\n",
    "from sklearn.decomposition import TruncatedSVD\n",
    "from sklearn.preprocessing import Normalizer\n",
    "\n",
    "n_components = 500\n",
    "svd = TruncatedSVD(n_components)\n",
    "normalizer = Normalizer(copy=False)\n",
    "lsa = make_pipeline(svd, normalizer)\n",
    "\n",
    "numpy_mattrix = lsa.fit_transform(X)\n",
    "type(numpy_mattrix)\n",
    "feature_count=len(vectorizer.get_feature_names())\n"
   ]
  },
  {
   "cell_type": "code",
   "execution_count": 7,
   "metadata": {},
   "outputs": [
    {
     "name": "stdout",
     "output_type": "stream",
     "text": [
      "192350\n"
     ]
    },
    {
     "data": {
      "text/plain": [
       "torch.utils.data.dataset.Subset"
      ]
     },
     "execution_count": 7,
     "metadata": {},
     "output_type": "execute_result"
    }
   ],
   "source": [
    "\n",
    "tensors = torch.from_numpy(numpy_mattrix)\n",
    "lables = torch.tensor(totalDataLabel)\n",
    "tensor_data=torch.utils.data.TensorDataset(tensors,lables)\n",
    "print(len(tensor_data))\n",
    "train_size = int(0.8 * len(tensor_data))\n",
    "test_size = len(tensor_data) - train_size\n",
    "train_dataset, test_dataset = torch.utils.data.random_split(tensor_data, [train_size, test_size])\n",
    "type(train_dataset)\n"
   ]
  },
  {
   "cell_type": "code",
   "execution_count": 8,
   "metadata": {},
   "outputs": [],
   "source": [
    "class Network(nn.Module):\n",
    "    def __init__(self):\n",
    "        super().__init__()\n",
    "#        self.conv1 = nn.Conv2d(in_channels=1, out_channels=6, kernel_size=5)\n",
    " #       self.conv2 = nn.Conv2d(in_channels=6, out_channels=12, kernel_size=5)\n",
    "        \n",
    "        self.fc1 = nn.Linear(in_features=500, out_features=700)\n",
    "\n",
    "        self.fc2 = nn.Linear(in_features=700, out_features=1000)\n",
    "        self.fc3 = nn.Linear(in_features=1000, out_features=600)\n",
    "        self.fc4 = nn.Linear(in_features=600, out_features=200)\n",
    "        self.out = nn.Linear(in_features=200, out_features=2)\n",
    "        \n",
    "    def forward(self, t):\n",
    "    # (1) input layer\n",
    "        t = t\n",
    "\n",
    "    # (2) hidden conv layer\n",
    "        t = self.fc1(t)\n",
    "        #activation function\n",
    "        t = F.relu(t)\n",
    "        #t = F.max_pool2d(t, kernel_size=2, stride=2)\n",
    "\n",
    "    # (3) hidden conv layer\n",
    "        t = self.fc2(t)\n",
    "        t = F.relu(t)\n",
    "        #t = F.max_pool2d(t, kernel_size=2, stride=2)\n",
    "\n",
    "    # (4) hidden linear layer\n",
    "       # t = t.reshape(-1, 12 * 4 * 4)\n",
    "        t = self.fc3(t)\n",
    "        t = F.relu(t)\n",
    "\n",
    "    # (5) hidden linear layer\n",
    "        t = self.fc4(t)\n",
    "        t = F.relu(t)\n",
    "\n",
    "    # (6) output layer\n",
    "        t = self.out(t)\n",
    "        #t = F.softmax(t, dim=1)\n",
    "\n",
    "        return t"
   ]
  },
  {
   "cell_type": "code",
   "execution_count": 10,
   "metadata": {},
   "outputs": [],
   "source": [
    "def get_num_correct(preds,labels):\n",
    "    return preds.argmax(dim=1).eq(labels).sum().item()"
   ]
  },
  {
   "cell_type": "code",
   "execution_count": 11,
   "metadata": {},
   "outputs": [
    {
     "name": "stdout",
     "output_type": "stream",
     "text": [
      "total_correct: 151384 loss: 81.81062439353263\n",
      "total_correct: 152530 loss: 39.450154272357395\n",
      "total_correct: 152139 loss: 80.68713973348713\n",
      "total_correct: 152677 loss: 44.34256800231287\n",
      "total_correct: 149786 loss: 179.9179037756112\n",
      "total_correct: 148013 loss: 189.35408912599087\n",
      "total_correct: 152923 loss: 26.89639451453695\n",
      "total_correct: 153105 loss: 22.878892460576026\n",
      "total_correct: 151736 loss: 96.96241588779958\n",
      "total_correct: 152964 loss: 29.51427704341677\n"
     ]
    }
   ],
   "source": [
    "model = Network()\n",
    "train_loader = torch.utils.data.DataLoader(train_dataset, batch_size=100,shuffle=True)\n",
    "optimizer = optim.Adam(model.parameters(), lr=0.01)\n",
    "torch.enable_grad()\n",
    "#weights = torch.tensor([1., 10.]) # maximize non roumor detection class\n",
    "#weights = torch.tensor([9., 1]) # maximize roumor detection class\n",
    "\n",
    "for epoch in range(0,10):\n",
    "    total_correct = 0\n",
    "    total_loss = 0    \n",
    "    for batch in train_loader: # Get Batch\n",
    "        tensors, labels = batch \n",
    "\n",
    "        preds = model(tensors.float()) # Pass Batch\n",
    "        optimizer.zero_grad()\n",
    "        loss = F.cross_entropy(preds, labels) # Calculate Loss\n",
    "\n",
    "       \n",
    "        loss.backward() # Calculate Gradients\n",
    "        optimizer.step() # Update Weights\n",
    "\n",
    "        total_loss += loss.item()\n",
    "        total_correct += get_num_correct(preds, labels)\n",
    "\n",
    "    print(\n",
    "        \"total_correct:\", total_correct, \n",
    "        \"loss:\", total_loss\n",
    "        )\n"
   ]
  },
  {
   "cell_type": "code",
   "execution_count": 12,
   "metadata": {},
   "outputs": [],
   "source": [
    "test_loader = torch.utils.data.DataLoader(test_dataset, batch_size=1000)\n"
   ]
  },
  {
   "cell_type": "code",
   "execution_count": 13,
   "metadata": {},
   "outputs": [
    {
     "data": {
      "text/plain": [
       "38160"
      ]
     },
     "execution_count": 13,
     "metadata": {},
     "output_type": "execute_result"
    }
   ],
   "source": [
    "test=0\n",
    "total=0\n",
    "model.eval()\n",
    "all_preds = torch.tensor([])\n",
    "all_lables = torch.tensor([])\n",
    "\n",
    "for batch in test_loader: # Get Batch\n",
    "        tensors, labels = batch\n",
    "        preds = model(tensors.float())\n",
    "        probs = F.softmax(preds,dim=1)\n",
    "        test += get_num_correct(probs, labels)\n",
    "        all_preds = torch.cat((all_preds, preds),dim=0)\n",
    "        all_lables = torch.cat((all_lables, labels.float()),dim=0)\n",
    "\n",
    "test       "
   ]
  },
  {
   "cell_type": "code",
   "execution_count": 14,
   "metadata": {},
   "outputs": [
    {
     "name": "stdout",
     "output_type": "stream",
     "text": [
      "38470\n"
     ]
    },
    {
     "data": {
      "text/plain": [
       "192350"
      ]
     },
     "execution_count": 14,
     "metadata": {},
     "output_type": "execute_result"
    }
   ],
   "source": [
    "print(len(all_preds.argmax(dim=1)))\n",
    "len(lables)"
   ]
  },
  {
   "cell_type": "code",
   "execution_count": 15,
   "metadata": {},
   "outputs": [
    {
     "name": "stdout",
     "output_type": "stream",
     "text": [
      "accuracy:  0.9919417728099819\n"
     ]
    }
   ],
   "source": [
    "print(\"accuracy: \",test/(len(tensor_data)*0.2))"
   ]
  },
  {
   "cell_type": "code",
   "execution_count": 24,
   "metadata": {},
   "outputs": [],
   "source": [
    "path='/Users/malam5/Downloads/dataverse_files/normal_classifire.pth'\n",
    "torch.save(model.state_dict(),path)"
   ]
  },
  {
   "cell_type": "code",
   "execution_count": 17,
   "metadata": {},
   "outputs": [
    {
     "name": "stdout",
     "output_type": "stream",
     "text": [
      "[[12220   118]\n",
      " [  192 25940]]\n"
     ]
    }
   ],
   "source": [
    "import matplotlib.pyplot as plt\n",
    "\n",
    "from sklearn.metrics import confusion_matrix\n",
    "#from resources.plotcm import plot_confusion_matrix\n",
    "\n",
    "tensors, original_lables = next(iter(test_loader))\n",
    "\n",
    "cm = confusion_matrix(all_lables, all_preds.argmax(dim=1))\n",
    "print(cm)"
   ]
  },
  {
   "cell_type": "code",
   "execution_count": 18,
   "metadata": {},
   "outputs": [],
   "source": [
    "import itertools\n",
    "import numpy as np\n",
    "import matplotlib.pyplot as plt\n",
    "\n",
    "def plot_confusion_matrix(cm, classes, normalize=False, title='Confusion matrix', cmap=plt.cm.Blues):\n",
    "    if normalize:\n",
    "        cm = cm.astype('float') / cm.sum(axis=1)[:, np.newaxis]\n",
    "        print(\"Normalized confusion matrix\")\n",
    "    else:\n",
    "        print('Confusion matrix, without normalization')\n",
    "\n",
    "    print(cm)\n",
    "    plt.imshow(cm, interpolation='nearest', cmap=cmap)\n",
    "    plt.title(title)\n",
    "    plt.colorbar()\n",
    "    tick_marks = np.arange(len(classes))\n",
    "    plt.xticks(tick_marks, classes, rotation=45)\n",
    "    plt.yticks(tick_marks, classes)\n",
    "\n",
    "    fmt = '.2f' if normalize else 'd'\n",
    "    thresh = cm.max() / 2.\n",
    "    for i, j in itertools.product(range(cm.shape[0]), range(cm.shape[1])):\n",
    "        plt.text(j, i, format(cm[i, j], fmt), horizontalalignment=\"center\", color=\"white\" if cm[i, j] > thresh else \"black\")\n",
    "\n",
    "    plt.tight_layout()\n",
    "    plt.ylabel('True label')\n",
    "    plt.xlabel('Predicted label')"
   ]
  },
  {
   "cell_type": "code",
   "execution_count": 19,
   "metadata": {},
   "outputs": [
    {
     "name": "stdout",
     "output_type": "stream",
     "text": [
      "Confusion matrix, without normalization\n",
      "[[12220   118]\n",
      " [  192 25940]]\n"
     ]
    },
    {
     "data": {
      "image/png": "[encoded data removed]",
      "text/plain": [
       "<Figure size 360x360 with 2 Axes>"
      ]
     },
     "metadata": {
      "needs_background": "light"
     },
     "output_type": "display_data"
    }
   ],
   "source": [
    "\n",
    "names = (\n",
    "    'R'\n",
    "    ,'N'\n",
    "    )\n",
    "plt.figure(figsize=(5,5))\n",
    "plot_confusion_matrix(cm, names)"
   ]
  },
  {
   "cell_type": "code",
   "execution_count": 20,
   "metadata": {},
   "outputs": [],
   "source": [
    "def predict(text):\n",
    "    model.eval()\n",
    "    pred = model(text.float())\n",
    "    probs = F.softmax(pred)\n",
    "    return probs.detach().numpy()\n"
   ]
  },
  {
   "cell_type": "code",
   "execution_count": 21,
   "metadata": {},
   "outputs": [
    {
     "name": "stdout",
     "output_type": "stream",
     "text": [
      "8.709169e-28\n"
     ]
    },
    {
     "name": "stderr",
     "output_type": "stream",
     "text": [
      "/Users/malam5/anaconda3/lib/python3.7/site-packages/ipykernel_launcher.py:4: UserWarning: Implicit dimension choice for softmax has been deprecated. Change the call to include dim=X as an argument.\n",
      "  after removing the cwd from sys.path.\n"
     ]
    },
    {
     "data": {
      "text/plain": [
       "1"
      ]
     },
     "execution_count": 21,
     "metadata": {},
     "output_type": "execute_result"
    }
   ],
   "source": [
    "print(predict(tensors[489])[0])\n",
    "totalDataLabel[489]"
   ]
  },
  {
   "cell_type": "code",
   "execution_count": 22,
   "metadata": {},
   "outputs": [],
   "source": [
    "from lime import lime_text\n",
    "class_names = ['Rumor', 'Not rumor']"
   ]
  },
  {
   "cell_type": "code",
   "execution_count": 23,
   "metadata": {},
   "outputs": [
    {
     "data": {
      "text/plain": [
       "<1x41070 sparse matrix of type '<class 'numpy.float64'>'\n",
       "\twith 11 stored elements in Compressed Sparse Row format>"
      ]
     },
     "execution_count": 23,
     "metadata": {},
     "output_type": "execute_result"
    }
   ],
   "source": [
    "from lime.lime_text import LimeTextExplainer\n",
    "explainer = LimeTextExplainer(class_names=class_names)\n",
    "X[50]"
   ]
  },
  {
   "cell_type": "code",
   "execution_count": null,
   "metadata": {},
   "outputs": [],
   "source": []
  }
 ],
 "metadata": {
  "kernelspec": {
   "display_name": "Python 3",
   "language": "python",
   "name": "python3"
  },
  "language_info": {
   "codemirror_mode": {
    "name": "ipython",
    "version": 3
   },
   "file_extension": ".py",
   "mimetype": "text/x-python",
   "name": "python",
   "nbconvert_exporter": "python",
   "pygments_lexer": "ipython3",
   "version": "3.7.3"
  }
 },
 "nbformat": 4,
 "nbformat_minor": 2
}
